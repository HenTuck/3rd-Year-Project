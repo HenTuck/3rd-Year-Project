{
 "cells": [
  {
   "cell_type": "code",
   "execution_count": 1,
   "id": "2daa2223",
   "metadata": {},
   "outputs": [
    {
     "name": "stdout",
     "output_type": "stream",
     "text": [
      "At an angle of 0° to the normal of the turbine, the air speed is: 20.0m/s.\n",
      "\n",
      "v1:20.0m/s.\n",
      "v2:19.5m/s.\n"
     ]
    }
   ],
   "source": [
    "import math \n",
    "import numpy as np\n",
    "\n",
    "# 0 = North\n",
    "# 90 = East\n",
    "# 180 = South\n",
    "# 270 = West\n",
    "\n",
    "meanV = 20\n",
    "turbAngle = 0\n",
    "windDirection = 0\n",
    "thetaDeg = abs(windDirection - turbAngle)\n",
    "thetaRad = thetaDeg/180*math.pi\n",
    "v1 = meanV * np.cos(thetaRad)\n",
    "print(f\"At an angle of {thetaDeg}° to the normal of the turbine, the air speed is: {round(v1,2)}m/s.\")\n",
    "print(\"\")\n",
    "\n",
    "Ct = 0.5\n",
    "d = 10\n",
    "k = 0.04\n",
    "x = 10\n",
    "Aoverlap = 10\n",
    "A2 = 100\n",
    "\n",
    "\n",
    "\n",
    "v2 = v1*(1 - (1-np.sqrt(1-Ct))*(d/(d+2*k*x))**2*(Aoverlap/A2))\n",
    "\n",
    "\n",
    "\n",
    "print(f\"v1:{round(v1,2)}m/s.\")             \n",
    "print(f\"v2:{round(v2,2)}m/s.\")"
   ]
  }
 ],
 "metadata": {
  "kernelspec": {
   "display_name": "Python 3 (ipykernel)",
   "language": "python",
   "name": "python3"
  },
  "language_info": {
   "codemirror_mode": {
    "name": "ipython",
    "version": 3
   },
   "file_extension": ".py",
   "mimetype": "text/x-python",
   "name": "python",
   "nbconvert_exporter": "python",
   "pygments_lexer": "ipython3",
   "version": "3.9.12"
  }
 },
 "nbformat": 4,
 "nbformat_minor": 5
}
