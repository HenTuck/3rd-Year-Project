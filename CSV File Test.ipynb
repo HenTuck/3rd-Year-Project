{
 "cells": [
  {
   "cell_type": "code",
   "execution_count": 1,
   "id": "e3a24aeb",
   "metadata": {},
   "outputs": [],
   "source": [
    "import pandas as pd"
   ]
  },
  {
   "cell_type": "code",
   "execution_count": 2,
   "id": "28b998f8",
   "metadata": {},
   "outputs": [],
   "source": [
    "numTurbs = 50\n",
    "windAngle = 180\n",
    "turbinePos = [10,20]\n",
    "\n",
    "df = pd.DataFrame(data={'No. Turbines':[],\n",
    "                        'Wind Angle':[],\n",
    "                        'Turbine Coords':[]})\n",
    "\n",
    "new_row = pd.DataFrame({'No. Turbines':[numTurbs],\n",
    "                        'Wind Angle':[windAngle],\n",
    "                        'Turbine Coords':[turbinePos]})\n",
    "\n",
    "df = pd.concat([df,new_row])\n",
    "\n",
    "df.to_csv('data.csv')"
   ]
  },
  {
   "cell_type": "code",
   "execution_count": 3,
   "id": "79ee845a",
   "metadata": {},
   "outputs": [
    {
     "name": "stdout",
     "output_type": "stream",
     "text": [
      "   Unnamed: 0  No. Turbines  Wind Angle Turbine Coords\n",
      "0           0          50.0       180.0       [10, 20]\n"
     ]
    }
   ],
   "source": [
    "df2 = pd.read_csv('data.csv')\n",
    "print(df2.to_string()) \n"
   ]
  },
  {
   "cell_type": "code",
   "execution_count": null,
   "id": "2631125f",
   "metadata": {},
   "outputs": [],
   "source": []
  }
 ],
 "metadata": {
  "kernelspec": {
   "display_name": "Python 3 (ipykernel)",
   "language": "python",
   "name": "python3"
  },
  "language_info": {
   "codemirror_mode": {
    "name": "ipython",
    "version": 3
   },
   "file_extension": ".py",
   "mimetype": "text/x-python",
   "name": "python",
   "nbconvert_exporter": "python",
   "pygments_lexer": "ipython3",
   "version": "3.9.12"
  }
 },
 "nbformat": 4,
 "nbformat_minor": 5
}
