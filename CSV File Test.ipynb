{
 "cells": [
  {
   "cell_type": "code",
   "execution_count": 1,
   "id": "8f07615e",
   "metadata": {},
   "outputs": [],
   "source": [
    "import pandas as pd\n",
    "import numpy as np"
   ]
  },
  {
   "cell_type": "code",
   "execution_count": 2,
   "id": "392e7b5b",
   "metadata": {},
   "outputs": [],
   "source": [
    "numTurbs = 50\n",
    "windSpacing = 10\n",
    "generations = 2\n",
    "\n",
    "df = pd.DataFrame(data={'No. Turbines':[],\n",
    "                        'Wind Angle':[],\n",
    "                        'Generation':[],\n",
    "                        'Turbine Coords':[]})\n",
    "\n",
    "for windAngle in range (0,360+windSpacing,windSpacing):\n",
    "    for gen in range (1,generations+1):\n",
    "        turbinePos = np.linspace(1,1000,10)\n",
    "        new_row = pd.DataFrame({'No. Turbines':[numTurbs],\n",
    "                        'Wind Angle':[windAngle],\n",
    "                        'Generation':[gen],       \n",
    "                        'Turbine Coords':[turbinePos]})\n",
    "        df = pd.concat([df,new_row])\n",
    "\n",
    "\n",
    "df.to_csv('Test-'+str(numTurbs)+'-'+str(windSpacing)+'.csv',index=False)"
   ]
  },
  {
   "cell_type": "code",
   "execution_count": 3,
   "id": "26d7fd80",
   "metadata": {},
   "outputs": [
    {
     "name": "stdout",
     "output_type": "stream",
     "text": [
      "50.0\n",
      "[[ 1.  2.]\n",
      " [ 3.  4.]\n",
      " [ 5.  6.]\n",
      " [ 7.  8.]\n",
      " [ 9. 10.]\n",
      " [11. 12.]\n",
      " [13. 14.]\n",
      " [15. 16.]\n",
      " [17. 18.]\n",
      " [19. 20.]\n",
      " [21. 22.]\n",
      " [23. 24.]\n",
      " [25. 26.]\n",
      " [27. 28.]\n",
      " [29. 30.]\n",
      " [31. 32.]\n",
      " [33. 34.]\n",
      " [35. 36.]\n",
      " [37. 38.]\n",
      " [39. 40.]\n",
      " [41. 42.]\n",
      " [43. 44.]\n",
      " [45. 46.]\n",
      " [47. 48.]\n",
      " [49. 50.]]\n"
     ]
    }
   ],
   "source": [
    "df2 = pd.read_csv('Test-50-10.csv')\n",
    "#print(df2.to_string())\n",
    "print(df2.iloc[0]['No. Turbines'])\n",
    "\n",
    "a = df2.to_numpy()\n",
    "\n",
    "vector = np.linspace(1,50,50)\n",
    "vector = vector.reshape(-1,2)\n",
    "print(vector)"
   ]
  }
 ],
 "metadata": {
  "kernelspec": {
   "display_name": "Python 3 (ipykernel)",
   "language": "python",
   "name": "python3"
  },
  "language_info": {
   "codemirror_mode": {
    "name": "ipython",
    "version": 3
   },
   "file_extension": ".py",
   "mimetype": "text/x-python",
   "name": "python",
   "nbconvert_exporter": "python",
   "pygments_lexer": "ipython3",
   "version": "3.9.12"
  }
 },
 "nbformat": 4,
 "nbformat_minor": 5
}
